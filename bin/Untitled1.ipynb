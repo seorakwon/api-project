{
 "cells": [
  {
   "cell_type": "code",
   "execution_count": 1,
   "metadata": {},
   "outputs": [],
   "source": [
    "import nltk \n",
    "from nltk.sentiment.vader import SentimentIntensityAnalyzer\n",
    "import requests\n",
    "import pandas as pd"
   ]
  },
  {
   "cell_type": "code",
   "execution_count": 2,
   "metadata": {},
   "outputs": [
    {
     "data": {
      "text/plain": [
       "{'neg': 0.0, 'neu': 1.0, 'pos': 0.0, 'compound': 0.0}"
      ]
     },
     "execution_count": 2,
     "metadata": {},
     "output_type": "execute_result"
    }
   ],
   "source": [
    "\n",
    "sid = SentimentIntensityAnalyzer()\n",
    "\n",
    "sid.polarity_scores(\"Weekend proyect\")"
   ]
  },
  {
   "cell_type": "code",
   "execution_count": 10,
   "metadata": {},
   "outputs": [
    {
     "data": {
      "text/plain": [
       "[{'userName': 'John Wick', 'idChat': 0, 'text': 'Hey Mike, whats up??'},\n",
       " {'userName': 'Mike Wazowski',\n",
       "  'idChat': 0,\n",
       "  'text': 'Dude!!! 😀️ Did you watch the game last night?'},\n",
       " {'userName': 'John Wick',\n",
       "  'idChat': 0,\n",
       "  'text': 'No, had to work. How was it?'},\n",
       " {'userName': 'Mike Wazowski',\n",
       "  'idChat': 0,\n",
       "  'text': 'Awesome! Boyander scored 3 goals!'},\n",
       " {'userName': 'John Wick', 'idChat': 0, 'text': 'No way! 😮️'},\n",
       " {'userName': 'Mike Wazowski', 'idChat': 0, 'text': 'Way...'},\n",
       " {'userName': 'John Wick', 'idChat': 0, 'text': 'I bet people went crazy'},\n",
       " {'userName': 'Mike Wazowski',\n",
       "  'idChat': 0,\n",
       "  'text': 'For sure. We stayed at KuboLoco until 6AM.'},\n",
       " {'userName': 'John Wick', 'idChat': 0, 'text': 'Motherfucker! Hungover? 😵️'},\n",
       " {'userName': 'Mike Wazowski',\n",
       "  'idChat': 0,\n",
       "  'text': 'Dead, burried and still suffering! \\U0001f92e️'}]"
      ]
     },
     "execution_count": 10,
     "metadata": {},
     "output_type": "execute_result"
    }
   ],
   "source": [
    "url='http://localhost:8080/chat/{}/list'.format(0)\n",
    "chat0 = requests.get(url).json()\n",
    "chat0"
   ]
  },
  {
   "cell_type": "code",
   "execution_count": 11,
   "metadata": {},
   "outputs": [
    {
     "data": {
      "text/html": [
       "<div>\n",
       "<style scoped>\n",
       "    .dataframe tbody tr th:only-of-type {\n",
       "        vertical-align: middle;\n",
       "    }\n",
       "\n",
       "    .dataframe tbody tr th {\n",
       "        vertical-align: top;\n",
       "    }\n",
       "\n",
       "    .dataframe thead th {\n",
       "        text-align: right;\n",
       "    }\n",
       "</style>\n",
       "<table border=\"1\" class=\"dataframe\">\n",
       "  <thead>\n",
       "    <tr style=\"text-align: right;\">\n",
       "      <th></th>\n",
       "      <th>userName</th>\n",
       "      <th>idChat</th>\n",
       "      <th>text</th>\n",
       "    </tr>\n",
       "  </thead>\n",
       "  <tbody>\n",
       "    <tr>\n",
       "      <th>0</th>\n",
       "      <td>John Wick</td>\n",
       "      <td>0</td>\n",
       "      <td>Hey Mike, whats up??</td>\n",
       "    </tr>\n",
       "    <tr>\n",
       "      <th>1</th>\n",
       "      <td>Mike Wazowski</td>\n",
       "      <td>0</td>\n",
       "      <td>Dude!!! 😀️ Did you watch the game last night?</td>\n",
       "    </tr>\n",
       "    <tr>\n",
       "      <th>2</th>\n",
       "      <td>John Wick</td>\n",
       "      <td>0</td>\n",
       "      <td>No, had to work. How was it?</td>\n",
       "    </tr>\n",
       "    <tr>\n",
       "      <th>3</th>\n",
       "      <td>Mike Wazowski</td>\n",
       "      <td>0</td>\n",
       "      <td>Awesome! Boyander scored 3 goals!</td>\n",
       "    </tr>\n",
       "    <tr>\n",
       "      <th>4</th>\n",
       "      <td>John Wick</td>\n",
       "      <td>0</td>\n",
       "      <td>No way! 😮️</td>\n",
       "    </tr>\n",
       "    <tr>\n",
       "      <th>5</th>\n",
       "      <td>Mike Wazowski</td>\n",
       "      <td>0</td>\n",
       "      <td>Way...</td>\n",
       "    </tr>\n",
       "    <tr>\n",
       "      <th>6</th>\n",
       "      <td>John Wick</td>\n",
       "      <td>0</td>\n",
       "      <td>I bet people went crazy</td>\n",
       "    </tr>\n",
       "    <tr>\n",
       "      <th>7</th>\n",
       "      <td>Mike Wazowski</td>\n",
       "      <td>0</td>\n",
       "      <td>For sure. We stayed at KuboLoco until 6AM.</td>\n",
       "    </tr>\n",
       "    <tr>\n",
       "      <th>8</th>\n",
       "      <td>John Wick</td>\n",
       "      <td>0</td>\n",
       "      <td>Motherfucker! Hungover? 😵️</td>\n",
       "    </tr>\n",
       "    <tr>\n",
       "      <th>9</th>\n",
       "      <td>Mike Wazowski</td>\n",
       "      <td>0</td>\n",
       "      <td>Dead, burried and still suffering! 🤮️</td>\n",
       "    </tr>\n",
       "  </tbody>\n",
       "</table>\n",
       "</div>"
      ],
      "text/plain": [
       "        userName  idChat                                           text\n",
       "0      John Wick       0                           Hey Mike, whats up??\n",
       "1  Mike Wazowski       0  Dude!!! 😀️ Did you watch the game last night?\n",
       "2      John Wick       0                   No, had to work. How was it?\n",
       "3  Mike Wazowski       0              Awesome! Boyander scored 3 goals!\n",
       "4      John Wick       0                                     No way! 😮️\n",
       "5  Mike Wazowski       0                                         Way...\n",
       "6      John Wick       0                        I bet people went crazy\n",
       "7  Mike Wazowski       0     For sure. We stayed at KuboLoco until 6AM.\n",
       "8      John Wick       0                     Motherfucker! Hungover? 😵️\n",
       "9  Mike Wazowski       0          Dead, burried and still suffering! 🤮️"
      ]
     },
     "execution_count": 11,
     "metadata": {},
     "output_type": "execute_result"
    }
   ],
   "source": [
    "chats_df = pd.DataFrame(chat0)\n",
    "chats_df"
   ]
  },
  {
   "cell_type": "code",
   "execution_count": 12,
   "metadata": {},
   "outputs": [],
   "source": [
    "chats_df.to_json('chat0.json')"
   ]
  },
  {
   "cell_type": "code",
   "execution_count": 16,
   "metadata": {},
   "outputs": [
    {
     "data": {
      "text/plain": [
       "[\"Hey Mike, whats up??: {'neg': 0.0, 'neu': 1.0, 'pos': 0.0, 'compound': 0.0}\",\n",
       " \"Dude!!! 😀️ Did you watch the game last night?: {'neg': 0.0, 'neu': 1.0, 'pos': 0.0, 'compound': 0.0}\",\n",
       " \"No, had to work. How was it?: {'neg': 0.268, 'neu': 0.732, 'pos': 0.0, 'compound': -0.296}\",\n",
       " \"Awesome! Boyander scored 3 goals!: {'neg': 0.0, 'neu': 0.39, 'pos': 0.61, 'compound': 0.6892}\",\n",
       " \"No way! 😮️: {'neg': 0.555, 'neu': 0.445, 'pos': 0.0, 'compound': -0.3595}\",\n",
       " \"Way...: {'neg': 0.0, 'neu': 1.0, 'pos': 0.0, 'compound': 0.0}\",\n",
       " \"I bet people went crazy: {'neg': 0.444, 'neu': 0.556, 'pos': 0.0, 'compound': -0.34}\",\n",
       " \"For sure. We stayed at KuboLoco until 6AM.: {'neg': 0.0, 'neu': 0.753, 'pos': 0.247, 'compound': 0.3182}\",\n",
       " \"Motherfucker! Hungover? 😵️: {'neg': 0.71, 'neu': 0.29, 'pos': 0.0, 'compound': -0.7088}\",\n",
       " \"Dead, burried and still suffering! \\U0001f92e️: {'neg': 0.658, 'neu': 0.342, 'pos': 0.0, 'compound': -0.8268}\"]"
      ]
     },
     "execution_count": 16,
     "metadata": {},
     "output_type": "execute_result"
    }
   ],
   "source": [
    "texts = chats_df['text']\n",
    "lista = []\n",
    "\n",
    "for e in texts:\n",
    "    lista.append(\"{}: {}\".format(e, sid.polarity_scores(e)))\n",
    "\n",
    "lista"
   ]
  },
  {
   "cell_type": "code",
   "execution_count": 14,
   "metadata": {},
   "outputs": [
    {
     "data": {
      "text/plain": [
       "Sentiment(polarity=0.0, subjectivity=0.0)"
      ]
     },
     "execution_count": 14,
     "metadata": {},
     "output_type": "execute_result"
    }
   ],
   "source": [
    "from textblob import TextBlob # install TextBlob\n",
    "\n",
    "TextBlob(\"hi\").sentiment"
   ]
  },
  {
   "cell_type": "code",
   "execution_count": 15,
   "metadata": {},
   "outputs": [
    {
     "data": {
      "text/plain": [
       "['Hey Mike, whats up??: Sentiment(polarity=0.0, subjectivity=0.0)',\n",
       " 'Dude!!! 😀️ Did you watch the game last night?: Sentiment(polarity=-0.2, subjectivity=0.23333333333333334)',\n",
       " 'No, had to work. How was it?: Sentiment(polarity=0.0, subjectivity=0.0)',\n",
       " 'Awesome! Boyander scored 3 goals!: Sentiment(polarity=1.0, subjectivity=1.0)',\n",
       " 'No way! 😮️: Sentiment(polarity=0.0, subjectivity=0.0)',\n",
       " 'Way...: Sentiment(polarity=0.0, subjectivity=0.0)',\n",
       " 'I bet people went crazy: Sentiment(polarity=-0.6, subjectivity=0.9)',\n",
       " 'For sure. We stayed at KuboLoco until 6AM.: Sentiment(polarity=0.5, subjectivity=0.8888888888888888)',\n",
       " 'Motherfucker! Hungover? 😵️: Sentiment(polarity=0.0, subjectivity=0.0)',\n",
       " 'Dead, burried and still suffering! \\U0001f92e️: Sentiment(polarity=-0.25, subjectivity=0.4)']"
      ]
     },
     "execution_count": 15,
     "metadata": {},
     "output_type": "execute_result"
    }
   ],
   "source": [
    "lista2 = []\n",
    "\n",
    "for e in texts:\n",
    "    lista2.append(\"{}: {}\".format(e, TextBlob(e).sentiment))\n",
    "    \n",
    "lista2"
   ]
  },
  {
   "cell_type": "code",
   "execution_count": null,
   "metadata": {},
   "outputs": [],
   "source": []
  }
 ],
 "metadata": {
  "kernelspec": {
   "display_name": "Python 3",
   "language": "python",
   "name": "python3"
  },
  "language_info": {
   "codemirror_mode": {
    "name": "ipython",
    "version": 3
   },
   "file_extension": ".py",
   "mimetype": "text/x-python",
   "name": "python",
   "nbconvert_exporter": "python",
   "pygments_lexer": "ipython3",
   "version": "3.6.8"
  }
 },
 "nbformat": 4,
 "nbformat_minor": 2
}
