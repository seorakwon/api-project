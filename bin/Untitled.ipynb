{
 "cells": [
  {
   "cell_type": "code",
   "execution_count": 12,
   "metadata": {},
   "outputs": [
    {
     "name": "stdout",
     "output_type": "stream",
     "text": [
      "Insert your AtlasMongoDB admin_1019 password: ········\n",
      "Insert desired collection: conversation\n"
     ]
    }
   ],
   "source": [
    "from pymongo import MongoClient\n",
    "import getpass\n",
    "import json\n",
    "import os\n",
    "import requests\n",
    "\n",
    "def getCollection():\n",
    "    collection = input('Insert desired collection: ')\n",
    "    return collection\n",
    "\n",
    "#Get Password\n",
    "password = getpass.getpass(\"Insert your AtlasMongoDB admin_1019 password: \")\n",
    "connection = \"mongodb+srv://seorakwon:{}@cluster0-rxtil.mongodb.net/test?retryWrites=true&w=majority\".format(password)\n",
    "\n",
    "#Connect to DB\n",
    "client = MongoClient(connection)\n",
    "def connectCollection(database, collection):\n",
    "    db = client[database]\n",
    "    coll = db[collection]\n",
    "    return db, coll\n",
    "\n",
    "collection = getCollection()\n",
    "\n",
    "db, coll = connectCollection('conversation', collection)\n"
   ]
  },
  {
   "cell_type": "code",
   "execution_count": 4,
   "metadata": {},
   "outputs": [],
   "source": [
    "nname = {'name': 'Atleti'}\n",
    "data = requests.post(\"http://localhost:8080/user/create\", data=nname)"
   ]
  },
  {
   "cell_type": "code",
   "execution_count": 5,
   "metadata": {},
   "outputs": [
    {
     "data": {
      "text/plain": [
       "<Response [500]>"
      ]
     },
     "execution_count": 5,
     "metadata": {},
     "output_type": "execute_result"
    }
   ],
   "source": [
    "data"
   ]
  },
  {
   "cell_type": "code",
   "execution_count": 13,
   "metadata": {},
   "outputs": [
    {
     "data": {
      "text/plain": [
       "[{'_id': {'$oid': '5de39b9cbc2bb97e5c9e2b92'},\n",
       "  'idUser': 0,\n",
       "  'userName': 'John Wick',\n",
       "  'idMessage': 0,\n",
       "  'idChat': 0,\n",
       "  'datetime': '2019-10-17 10:15:41',\n",
       "  'text': 'Hey Mike, whats up??'},\n",
       " {'_id': {'$oid': '5de39b9cbc2bb97e5c9e2b94'},\n",
       "  'idUser': 0,\n",
       "  'userName': 'John Wick',\n",
       "  'idMessage': 2,\n",
       "  'idChat': 0,\n",
       "  'datetime': '2019-10-17 10:17:31',\n",
       "  'text': 'No, had to work. How was it?'},\n",
       " {'_id': {'$oid': '5de39b9cbc2bb97e5c9e2b96'},\n",
       "  'idUser': 0,\n",
       "  'userName': 'John Wick',\n",
       "  'idMessage': 4,\n",
       "  'idChat': 0,\n",
       "  'datetime': '2019-10-17 10:19:41',\n",
       "  'text': 'No way! 😮️'},\n",
       " {'_id': {'$oid': '5de39b9cbc2bb97e5c9e2b98'},\n",
       "  'idUser': 0,\n",
       "  'userName': 'John Wick',\n",
       "  'idMessage': 6,\n",
       "  'idChat': 0,\n",
       "  'datetime': '2019-10-17 10:21:41',\n",
       "  'text': 'I bet people went crazy'},\n",
       " {'_id': {'$oid': '5de39b9cbc2bb97e5c9e2b9a'},\n",
       "  'idUser': 0,\n",
       "  'userName': 'John Wick',\n",
       "  'idMessage': 8,\n",
       "  'idChat': 0,\n",
       "  'datetime': '2019-10-17 10:23:41',\n",
       "  'text': 'Motherfucker! Hungover? 😵️'},\n",
       " {'_id': {'$oid': '5de39b9cbc2bb97e5c9e2bb1'},\n",
       "  'idUser': 0,\n",
       "  'userName': 'John Wick',\n",
       "  'idMessage': 31,\n",
       "  'idChat': 3,\n",
       "  'datetime': '2019-10-20 10:16:41',\n",
       "  'text': 'Sure, boss.'},\n",
       " {'_id': {'$oid': '5de39b9cbc2bb97e5c9e2bb3'},\n",
       "  'idUser': 0,\n",
       "  'userName': 'John Wick',\n",
       "  'idMessage': 33,\n",
       "  'idChat': 3,\n",
       "  'datetime': '2019-10-20 10:18:41',\n",
       "  'text': 'I do! I just dont feel appreciated in my job'},\n",
       " {'_id': {'$oid': '5de39b9cbc2bb97e5c9e2bb5'},\n",
       "  'idUser': 0,\n",
       "  'userName': 'John Wick',\n",
       "  'idMessage': 35,\n",
       "  'idChat': 3,\n",
       "  'datetime': '2019-10-20 10:20:41',\n",
       "  'text': 'I dunno...'},\n",
       " {'_id': {'$oid': '5de39b9cbc2bb97e5c9e2bb7'},\n",
       "  'idUser': 0,\n",
       "  'userName': 'John Wick',\n",
       "  'idMessage': 37,\n",
       "  'idChat': 3,\n",
       "  'datetime': '2019-10-20 10:22:41',\n",
       "  'text': 'Maybe'},\n",
       " {'_id': {'$oid': '5de39b9cbc2bb97e5c9e2bb9'},\n",
       "  'idUser': 0,\n",
       "  'userName': 'John Wick',\n",
       "  'idMessage': 39,\n",
       "  'idChat': 3,\n",
       "  'datetime': '2019-10-20 10:24:41',\n",
       "  'text': 'Thank you, boss! I feel much better...'}]"
      ]
     },
     "execution_count": 13,
     "metadata": {},
     "output_type": "execute_result"
    }
   ],
   "source": [
    "data = requests.get('http://localhost:8080/John%20Wick').json()\n",
    "\n",
    "data"
   ]
  },
  {
   "cell_type": "code",
   "execution_count": 11,
   "metadata": {},
   "outputs": [
    {
     "data": {
      "text/plain": [
       "[]"
      ]
     },
     "execution_count": 11,
     "metadata": {},
     "output_type": "execute_result"
    }
   ],
   "source": [
    "user = \"John%20Wick\"\n",
    "URL = \"http://localhost:8080/{}\".format(user)\n",
    "data = requests.get(url = URL).json()\n",
    "data"
   ]
  },
  {
   "cell_type": "code",
   "execution_count": null,
   "metadata": {},
   "outputs": [],
   "source": []
  }
 ],
 "metadata": {
  "kernelspec": {
   "display_name": "Python 3",
   "language": "python",
   "name": "python3"
  },
  "language_info": {
   "codemirror_mode": {
    "name": "ipython",
    "version": 3
   },
   "file_extension": ".py",
   "mimetype": "text/x-python",
   "name": "python",
   "nbconvert_exporter": "python",
   "pygments_lexer": "ipython3",
   "version": "3.6.8"
  }
 },
 "nbformat": 4,
 "nbformat_minor": 2
}
