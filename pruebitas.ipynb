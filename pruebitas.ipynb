{
 "cells": [
  {
   "cell_type": "code",
   "execution_count": 7,
   "metadata": {},
   "outputs": [
    {
     "name": "stdout",
     "output_type": "stream",
     "text": [
      "None\n"
     ]
    }
   ],
   "source": [
    "from bottle import route, run, get, post, request\n",
    "from pymongo import MongoClient\n",
    "import random\n",
    "import getpass\n",
    "import dotenv\n",
    "import os\n",
    "from dotenv import load_dotenv\n",
    "load_dotenv()\n",
    "import requests\n",
    "\n",
    "mongodbURL = os.getenv(\"MONGOURL\")\n",
    "print(mongodbURL)\n",
    "\n",
    "def connectCollection(database, collection):\n",
    "    client = MongoClient(mongodbURL)\n",
    "    db = client[database]\n",
    "    coll = db[collection]\n",
    "    return db, coll"
   ]
  },
  {
   "cell_type": "code",
   "execution_count": 8,
   "metadata": {},
   "outputs": [
    {
     "data": {
      "text/plain": [
       "[{'_id': {'$oid': '5de39b9cbc2bb97e5c9e2b92'},\n",
       "  'idUser': 0,\n",
       "  'userName': 'John Wick',\n",
       "  'idMessage': 0,\n",
       "  'idChat': 0,\n",
       "  'datetime': '2019-10-17 10:15:41',\n",
       "  'text': 'Hey Mike, whats up??'},\n",
       " {'_id': {'$oid': '5de39b9cbc2bb97e5c9e2b93'},\n",
       "  'idUser': 1,\n",
       "  'userName': 'Mike Wazowski',\n",
       "  'idMessage': 1,\n",
       "  'idChat': 0,\n",
       "  'datetime': '2019-10-17 10:16:59',\n",
       "  'text': 'Dude!!! 😀️ Did you watch the game last night?'},\n",
       " {'_id': {'$oid': '5de39b9cbc2bb97e5c9e2b94'},\n",
       "  'idUser': 0,\n",
       "  'userName': 'John Wick',\n",
       "  'idMessage': 2,\n",
       "  'idChat': 0,\n",
       "  'datetime': '2019-10-17 10:17:31',\n",
       "  'text': 'No, had to work. How was it?'},\n",
       " {'_id': {'$oid': '5de39b9cbc2bb97e5c9e2b95'},\n",
       "  'idUser': 1,\n",
       "  'userName': 'Mike Wazowski',\n",
       "  'idMessage': 3,\n",
       "  'idChat': 0,\n",
       "  'datetime': '2019-10-17 10:18:41',\n",
       "  'text': 'Awesome! Boyander scored 3 goals!'},\n",
       " {'_id': {'$oid': '5de39b9cbc2bb97e5c9e2b96'},\n",
       "  'idUser': 0,\n",
       "  'userName': 'John Wick',\n",
       "  'idMessage': 4,\n",
       "  'idChat': 0,\n",
       "  'datetime': '2019-10-17 10:19:41',\n",
       "  'text': 'No way! 😮️'},\n",
       " {'_id': {'$oid': '5de39b9cbc2bb97e5c9e2b97'},\n",
       "  'idUser': 1,\n",
       "  'userName': 'Mike Wazowski',\n",
       "  'idMessage': 5,\n",
       "  'idChat': 0,\n",
       "  'datetime': '2019-10-17 10:20:41',\n",
       "  'text': 'Way...'},\n",
       " {'_id': {'$oid': '5de39b9cbc2bb97e5c9e2b98'},\n",
       "  'idUser': 0,\n",
       "  'userName': 'John Wick',\n",
       "  'idMessage': 6,\n",
       "  'idChat': 0,\n",
       "  'datetime': '2019-10-17 10:21:41',\n",
       "  'text': 'I bet people went crazy'},\n",
       " {'_id': {'$oid': '5de39b9cbc2bb97e5c9e2b99'},\n",
       "  'idUser': 1,\n",
       "  'userName': 'Mike Wazowski',\n",
       "  'idMessage': 7,\n",
       "  'idChat': 0,\n",
       "  'datetime': '2019-10-17 10:22:41',\n",
       "  'text': 'For sure. We stayed at KuboLoco until 6AM.'},\n",
       " {'_id': {'$oid': '5de39b9cbc2bb97e5c9e2b9a'},\n",
       "  'idUser': 0,\n",
       "  'userName': 'John Wick',\n",
       "  'idMessage': 8,\n",
       "  'idChat': 0,\n",
       "  'datetime': '2019-10-17 10:23:41',\n",
       "  'text': 'Motherfucker! Hungover? 😵️'},\n",
       " {'_id': {'$oid': '5de39b9cbc2bb97e5c9e2b9b'},\n",
       "  'idUser': 1,\n",
       "  'userName': 'Mike Wazowski',\n",
       "  'idMessage': 9,\n",
       "  'idChat': 0,\n",
       "  'datetime': '2019-10-17 10:24:41',\n",
       "  'text': 'Dead, burried and still suffering! \\U0001f92e️'},\n",
       " {'_id': {'$oid': '5de39b9cbc2bb97e5c9e2b9c'},\n",
       "  'idUser': 2,\n",
       "  'userName': 'Leia Organa',\n",
       "  'idMessage': 10,\n",
       "  'idChat': 1,\n",
       "  'datetime': '2019-10-18 10:15:41',\n",
       "  'text': 'Im so angry right now!'},\n",
       " {'_id': {'$oid': '5de39b9cbc2bb97e5c9e2b9d'},\n",
       "  'idUser': 3,\n",
       "  'userName': 'Tony Stark',\n",
       "  'idMessage': 11,\n",
       "  'idChat': 1,\n",
       "  'datetime': '2019-10-18 10:16:41',\n",
       "  'text': 'I saw you this morning. You shouldnt get so upset. ❤️'},\n",
       " {'_id': {'$oid': '5de39b9cbc2bb97e5c9e2b9e'},\n",
       "  'idUser': 2,\n",
       "  'userName': 'Leia Organa',\n",
       "  'idMessage': 12,\n",
       "  'idChat': 1,\n",
       "  'datetime': '2019-10-18 10:17:41',\n",
       "  'text': 'Impossible! Cant do it! Just cant! He pissed me off so much.'},\n",
       " {'_id': {'$oid': '5de39b9cbc2bb97e5c9e2b9f'},\n",
       "  'idUser': 3,\n",
       "  'userName': 'Tony Stark',\n",
       "  'idMessage': 13,\n",
       "  'idChat': 1,\n",
       "  'datetime': '2019-10-18 10:18:41',\n",
       "  'text': 'Dont get so frustrated, Leia. Remember what German said.'},\n",
       " {'_id': {'$oid': '5de39b9cbc2bb97e5c9e2ba0'},\n",
       "  'idUser': 2,\n",
       "  'userName': 'Leia Organa',\n",
       "  'idMessage': 14,\n",
       "  'idChat': 1,\n",
       "  'datetime': '2019-10-18 10:19:41',\n",
       "  'text': 'But how am I suposed to fix the facial recognition system if it doesnt even work?'},\n",
       " {'_id': {'$oid': '5de39b9cbc2bb97e5c9e2ba1'},\n",
       "  'idUser': 3,\n",
       "  'userName': 'Tony Stark',\n",
       "  'idMessage': 15,\n",
       "  'idChat': 1,\n",
       "  'datetime': '2019-10-18 10:20:41',\n",
       "  'text': 'Im sure you will find a way.'},\n",
       " {'_id': {'$oid': '5de39b9cbc2bb97e5c9e2ba2'},\n",
       "  'idUser': 2,\n",
       "  'userName': 'Leia Organa',\n",
       "  'idMessage': 16,\n",
       "  'idChat': 1,\n",
       "  'datetime': '2019-10-18 10:21:41',\n",
       "  'text': 'And who the hell is Tony? \\U0001f92f️'},\n",
       " {'_id': {'$oid': '5de39b9cbc2bb97e5c9e2ba3'},\n",
       "  'idUser': 3,\n",
       "  'userName': 'Tony Stark',\n",
       "  'idMessage': 17,\n",
       "  'idChat': 1,\n",
       "  'datetime': '2019-10-18 10:22:41',\n",
       "  'text': 'I am Iron Man'},\n",
       " {'_id': {'$oid': '5de39b9cbc2bb97e5c9e2ba4'},\n",
       "  'idUser': 2,\n",
       "  'userName': 'Leia Organa',\n",
       "  'idMessage': 18,\n",
       "  'idChat': 1,\n",
       "  'datetime': '2019-10-18 10:23:41',\n",
       "  'text': 'Oh shit. I think youre friends with my brother.'},\n",
       " {'_id': {'$oid': '5de39b9cbc2bb97e5c9e2ba5'},\n",
       "  'idUser': 3,\n",
       "  'userName': 'Tony Stark',\n",
       "  'idMessage': 19,\n",
       "  'idChat': 1,\n",
       "  'datetime': '2019-10-18 10:24:41',\n",
       "  'text': 'Uh-Oh. Better fix that quickly.'},\n",
       " {'_id': {'$oid': '5de39b9cbc2bb97e5c9e2ba6'},\n",
       "  'idUser': 1,\n",
       "  'userName': 'Mike Wazowski',\n",
       "  'idMessage': 20,\n",
       "  'idChat': 2,\n",
       "  'datetime': '2019-10-19 10:15:41',\n",
       "  'text': 'Sweety pie! How Ive longed to talk to you.'},\n",
       " {'_id': {'$oid': '5de39b9cbc2bb97e5c9e2ba7'},\n",
       "  'idUser': 4,\n",
       "  'userName': 'Ellen Ripley',\n",
       "  'idMessage': 21,\n",
       "  'idChat': 2,\n",
       "  'datetime': '2019-10-19 10:16:41',\n",
       "  'text': 'Not again, Michael.... 😒️'},\n",
       " {'_id': {'$oid': '5de39b9cbc2bb97e5c9e2ba8'},\n",
       "  'idUser': 1,\n",
       "  'userName': 'Mike Wazowski',\n",
       "  'idMessage': 22,\n",
       "  'idChat': 2,\n",
       "  'datetime': '2019-10-19 10:17:41',\n",
       "  'text': 'Its Mike, honey bunny. Or doctor LOVE! And youre a sick little girl.'},\n",
       " {'_id': {'$oid': '5de39b9cbc2bb97e5c9e2ba9'},\n",
       "  'idUser': 4,\n",
       "  'userName': 'Ellen Ripley',\n",
       "  'idMessage': 23,\n",
       "  'idChat': 2,\n",
       "  'datetime': '2019-10-19 10:18:41',\n",
       "  'text': 'Im gonna report you to Human Resources again, Michael.'},\n",
       " {'_id': {'$oid': '5de39b9cbc2bb97e5c9e2baa'},\n",
       "  'idUser': 1,\n",
       "  'userName': 'Mike Wazowski',\n",
       "  'idMessage': 24,\n",
       "  'idChat': 2,\n",
       "  'datetime': '2019-10-19 10:19:41',\n",
       "  'text': 'Cant handle me on your own?'},\n",
       " {'_id': {'$oid': '5de39b9cbc2bb97e5c9e2bab'},\n",
       "  'idUser': 4,\n",
       "  'userName': 'Ellen Ripley',\n",
       "  'idMessage': 25,\n",
       "  'idChat': 2,\n",
       "  'datetime': '2019-10-19 10:20:41',\n",
       "  'text': 'Id rather have a fucking alien crawling out of my ass'},\n",
       " {'_id': {'$oid': '5de39b9cbc2bb97e5c9e2bac'},\n",
       "  'idUser': 1,\n",
       "  'userName': 'Mike Wazowski',\n",
       "  'idMessage': 26,\n",
       "  'idChat': 2,\n",
       "  'datetime': '2019-10-19 10:21:41',\n",
       "  'text': 'That would be hot... 🔥️'},\n",
       " {'_id': {'$oid': '5de39b9cbc2bb97e5c9e2bad'},\n",
       "  'idUser': 4,\n",
       "  'userName': 'Ellen Ripley',\n",
       "  'idMessage': 27,\n",
       "  'idChat': 2,\n",
       "  'datetime': '2019-10-19 10:22:41',\n",
       "  'text': 'Ok, youve got to stop drinking! Im calling HR.'},\n",
       " {'_id': {'$oid': '5de39b9cbc2bb97e5c9e2bae'},\n",
       "  'idUser': 1,\n",
       "  'userName': 'Mike Wazowski',\n",
       "  'idMessage': 28,\n",
       "  'idChat': 2,\n",
       "  'datetime': '2019-10-19 10:23:41',\n",
       "  'text': 'I NEED VODKA LIKE A CAR NEEDS GAS'},\n",
       " {'_id': {'$oid': '5de39b9cbc2bb97e5c9e2baf'},\n",
       "  'idUser': 4,\n",
       "  'userName': 'Ellen Ripley',\n",
       "  'idMessage': 29,\n",
       "  'idChat': 2,\n",
       "  'datetime': '2019-10-19 10:24:41',\n",
       "  'text': 'Dude... Alcoholics Anonymous: https://www.aa.org'},\n",
       " {'_id': {'$oid': '5de39b9cbc2bb97e5c9e2bb0'},\n",
       "  'idUser': 5,\n",
       "  'userName': 'J. Jonah Jameson',\n",
       "  'idMessage': 30,\n",
       "  'idChat': 3,\n",
       "  'datetime': '2019-10-20 10:15:41',\n",
       "  'text': 'I want pictures of Spiderman and I want them now!'},\n",
       " {'_id': {'$oid': '5de39b9cbc2bb97e5c9e2bb1'},\n",
       "  'idUser': 0,\n",
       "  'userName': 'John Wick',\n",
       "  'idMessage': 31,\n",
       "  'idChat': 3,\n",
       "  'datetime': '2019-10-20 10:16:41',\n",
       "  'text': 'Sure, boss.'},\n",
       " {'_id': {'$oid': '5de39b9cbc2bb97e5c9e2bb2'},\n",
       "  'idUser': 5,\n",
       "  'userName': 'J. Jonah Jameson',\n",
       "  'idMessage': 32,\n",
       "  'idChat': 3,\n",
       "  'datetime': '2019-10-20 10:17:41',\n",
       "  'text': 'Youve got to take me seriously.'},\n",
       " {'_id': {'$oid': '5de39b9cbc2bb97e5c9e2bb3'},\n",
       "  'idUser': 0,\n",
       "  'userName': 'John Wick',\n",
       "  'idMessage': 33,\n",
       "  'idChat': 3,\n",
       "  'datetime': '2019-10-20 10:18:41',\n",
       "  'text': 'I do! I just dont feel appreciated in my job'},\n",
       " {'_id': {'$oid': '5de39b9cbc2bb97e5c9e2bb4'},\n",
       "  'idUser': 5,\n",
       "  'userName': 'J. Jonah Jameson',\n",
       "  'idMessage': 34,\n",
       "  'idChat': 3,\n",
       "  'datetime': '2019-10-20 10:19:41',\n",
       "  'text': 'Thats why youve got to get those damm pictures!!'},\n",
       " {'_id': {'$oid': '5de39b9cbc2bb97e5c9e2bb5'},\n",
       "  'idUser': 0,\n",
       "  'userName': 'John Wick',\n",
       "  'idMessage': 35,\n",
       "  'idChat': 3,\n",
       "  'datetime': '2019-10-20 10:20:41',\n",
       "  'text': 'I dunno...'},\n",
       " {'_id': {'$oid': '5de39b9cbc2bb97e5c9e2bb6'},\n",
       "  'idUser': 5,\n",
       "  'userName': 'J. Jonah Jameson',\n",
       "  'idMessage': 36,\n",
       "  'idChat': 3,\n",
       "  'datetime': '2019-10-20 10:21:41',\n",
       "  'text': 'Get the god damn motherfucking fuckity fuck bloody ballsack pictures'},\n",
       " {'_id': {'$oid': '5de39b9cbc2bb97e5c9e2bb7'},\n",
       "  'idUser': 0,\n",
       "  'userName': 'John Wick',\n",
       "  'idMessage': 37,\n",
       "  'idChat': 3,\n",
       "  'datetime': '2019-10-20 10:22:41',\n",
       "  'text': 'Maybe'},\n",
       " {'_id': {'$oid': '5de39b9cbc2bb97e5c9e2bb8'},\n",
       "  'idUser': 5,\n",
       "  'userName': 'J. Jonah Jameson',\n",
       "  'idMessage': 38,\n",
       "  'idChat': 3,\n",
       "  'datetime': '2019-10-20 10:23:41',\n",
       "  'text': 'Youve got to! And I believe in you'},\n",
       " {'_id': {'$oid': '5de39b9cbc2bb97e5c9e2bb9'},\n",
       "  'idUser': 0,\n",
       "  'userName': 'John Wick',\n",
       "  'idMessage': 39,\n",
       "  'idChat': 3,\n",
       "  'datetime': '2019-10-20 10:24:41',\n",
       "  'text': 'Thank you, boss! I feel much better...'},\n",
       " {'_id': {'$oid': '5de39b9cbc2bb97e5c9e2bba'},\n",
       "  'idUser': 6,\n",
       "  'userName': 'Danny Torrances Finger',\n",
       "  'idMessage': 40,\n",
       "  'idChat': 4,\n",
       "  'datetime': '2019-10-21 10:15:41',\n",
       "  'text': 'REDRUM'},\n",
       " {'_id': {'$oid': '5de39b9cbc2bb97e5c9e2bbb'},\n",
       "  'idUser': 7,\n",
       "  'userName': 'Danny Torrance',\n",
       "  'idMessage': 41,\n",
       "  'idChat': 4,\n",
       "  'datetime': '2019-10-21 10:16:41',\n",
       "  'text': 'What was that?'},\n",
       " {'_id': {'$oid': '5de39b9cbc2bb97e5c9e2bbc'},\n",
       "  'idUser': 6,\n",
       "  'userName': 'Danny Torrances Finger',\n",
       "  'idMessage': 42,\n",
       "  'idChat': 4,\n",
       "  'datetime': '2019-10-21 10:17:41',\n",
       "  'text': 'REDRUM REDRUM REDRUM'},\n",
       " {'_id': {'$oid': '5de39b9cbc2bb97e5c9e2bbd'},\n",
       "  'idUser': 7,\n",
       "  'userName': 'Danny Torrance',\n",
       "  'idMessage': 43,\n",
       "  'idChat': 4,\n",
       "  'datetime': '2019-10-21 10:18:41',\n",
       "  'text': 'Did you mean red room? Id love a red room.'},\n",
       " {'_id': {'$oid': '5de39b9cbc2bb97e5c9e2bbe'},\n",
       "  'idUser': 6,\n",
       "  'userName': 'Danny Torrances Finger',\n",
       "  'idMessage': 44,\n",
       "  'idChat': 4,\n",
       "  'datetime': '2019-10-21 10:19:41',\n",
       "  'text': 'Murder, bro, cold blooded splashy murderous fun'},\n",
       " {'_id': {'$oid': '5de39b9cbc2bb97e5c9e2bbf'},\n",
       "  'idUser': 7,\n",
       "  'userName': 'Danny Torrance',\n",
       "  'idMessage': 45,\n",
       "  'idChat': 4,\n",
       "  'datetime': '2019-10-21 10:20:41',\n",
       "  'text': 'Chill out, pinky.. Its such a nice day'},\n",
       " {'_id': {'$oid': '5de39b9cbc2bb97e5c9e2bc0'},\n",
       "  'idUser': 6,\n",
       "  'userName': 'Danny Torrances Finger',\n",
       "  'idMessage': 46,\n",
       "  'idChat': 4,\n",
       "  'datetime': '2019-10-21 10:21:41',\n",
       "  'text': 'A nice day to create havoc!'},\n",
       " {'_id': {'$oid': '5de39b9cbc2bb97e5c9e2bc1'},\n",
       "  'idUser': 7,\n",
       "  'userName': 'Danny Torrance',\n",
       "  'idMessage': 47,\n",
       "  'idChat': 4,\n",
       "  'datetime': '2019-10-21 10:22:41',\n",
       "  'text': 'Ill go for a walk in the park, I guess. Maybe fishing'},\n",
       " {'_id': {'$oid': '5de39b9cbc2bb97e5c9e2bc2'},\n",
       "  'idUser': 6,\n",
       "  'userName': 'Danny Torrances Finger',\n",
       "  'idMessage': 48,\n",
       "  'idChat': 4,\n",
       "  'datetime': '2019-10-21 10:23:41',\n",
       "  'text': 'Fishing sounds good. What about the labyrinth?'},\n",
       " {'_id': {'$oid': '5de39b9cbc2bb97e5c9e2bc3'},\n",
       "  'idUser': 7,\n",
       "  'userName': 'Danny Torrance',\n",
       "  'idMessage': 49,\n",
       "  'idChat': 4,\n",
       "  'datetime': '2019-10-21 10:24:41',\n",
       "  'text': 'No! That places creeps me out..'}]"
      ]
     },
     "execution_count": 8,
     "metadata": {},
     "output_type": "execute_result"
    }
   ],
   "source": [
    "URL = 'http://localhost:8080/'\n",
    "data = requests.get(url=URL).json()\n",
    "data"
   ]
  },
  {
   "cell_type": "code",
   "execution_count": 21,
   "metadata": {},
   "outputs": [
    {
     "data": {
      "text/plain": [
       "[{'idUser': 0, 'userName': 'John Wick', 'text': 'Hey Mike, whats up??'},\n",
       " {'idUser': 0,\n",
       "  'userName': 'John Wick',\n",
       "  'text': 'No, had to work. How was it?'},\n",
       " {'idUser': 0, 'userName': 'John Wick', 'text': 'No way! 😮️'},\n",
       " {'idUser': 0, 'userName': 'John Wick', 'text': 'I bet people went crazy'},\n",
       " {'idUser': 0, 'userName': 'John Wick', 'text': 'Motherfucker! Hungover? 😵️'},\n",
       " {'idUser': 0, 'userName': 'John Wick', 'text': 'Sure, boss.'},\n",
       " {'idUser': 0,\n",
       "  'userName': 'John Wick',\n",
       "  'text': 'I do! I just dont feel appreciated in my job'},\n",
       " {'idUser': 0, 'userName': 'John Wick', 'text': 'I dunno...'},\n",
       " {'idUser': 0, 'userName': 'John Wick', 'text': 'Maybe'},\n",
       " {'idUser': 0,\n",
       "  'userName': 'John Wick',\n",
       "  'text': 'Thank you, boss! I feel much better...'}]"
      ]
     },
     "execution_count": 21,
     "metadata": {},
     "output_type": "execute_result"
    }
   ],
   "source": [
    "user = \"John%20Wick\"\n",
    "URL = \"http://localhost:8080/{}\".format(user)\n",
    "data = requests.get(url = URL).json()\n",
    "data"
   ]
  },
  {
   "cell_type": "code",
   "execution_count": 22,
   "metadata": {},
   "outputs": [
    {
     "data": {
      "text/plain": [
       "[{'idUser': 0, 'userName': 'John Wick', 'text': 'Hey Mike, whats up??'},\n",
       " {'idUser': 0,\n",
       "  'userName': 'John Wick',\n",
       "  'text': 'No, had to work. How was it?'},\n",
       " {'idUser': 0, 'userName': 'John Wick', 'text': 'No way! 😮️'},\n",
       " {'idUser': 0, 'userName': 'John Wick', 'text': 'I bet people went crazy'},\n",
       " {'idUser': 0, 'userName': 'John Wick', 'text': 'Motherfucker! Hungover? 😵️'},\n",
       " {'idUser': 0, 'userName': 'John Wick', 'text': 'Sure, boss.'},\n",
       " {'idUser': 0,\n",
       "  'userName': 'John Wick',\n",
       "  'text': 'I do! I just dont feel appreciated in my job'},\n",
       " {'idUser': 0, 'userName': 'John Wick', 'text': 'I dunno...'},\n",
       " {'idUser': 0, 'userName': 'John Wick', 'text': 'Maybe'},\n",
       " {'idUser': 0,\n",
       "  'userName': 'John Wick',\n",
       "  'text': 'Thank you, boss! I feel much better...'}]"
      ]
     },
     "execution_count": 22,
     "metadata": {},
     "output_type": "execute_result"
    }
   ],
   "source": [
    "data = requests.get('http://localhost:8080/John%20Wick').json()\n",
    "\n",
    "data"
   ]
  },
  {
   "cell_type": "code",
   "execution_count": 14,
   "metadata": {},
   "outputs": [
    {
     "data": {
      "text/plain": [
       "[{'userName': 'John Wick', 'idChat': 0, 'text': 'Hey Mike, whats up??'},\n",
       " {'userName': 'Mike Wazowski',\n",
       "  'idChat': 0,\n",
       "  'text': 'Dude!!! 😀️ Did you watch the game last night?'},\n",
       " {'userName': 'John Wick',\n",
       "  'idChat': 0,\n",
       "  'text': 'No, had to work. How was it?'},\n",
       " {'userName': 'Mike Wazowski',\n",
       "  'idChat': 0,\n",
       "  'text': 'Awesome! Boyander scored 3 goals!'},\n",
       " {'userName': 'John Wick', 'idChat': 0, 'text': 'No way! 😮️'},\n",
       " {'userName': 'Mike Wazowski', 'idChat': 0, 'text': 'Way...'},\n",
       " {'userName': 'John Wick', 'idChat': 0, 'text': 'I bet people went crazy'},\n",
       " {'userName': 'Mike Wazowski',\n",
       "  'idChat': 0,\n",
       "  'text': 'For sure. We stayed at KuboLoco until 6AM.'},\n",
       " {'userName': 'John Wick', 'idChat': 0, 'text': 'Motherfucker! Hungover? 😵️'},\n",
       " {'userName': 'Mike Wazowski',\n",
       "  'idChat': 0,\n",
       "  'text': 'Dead, burried and still suffering! \\U0001f92e️'}]"
      ]
     },
     "execution_count": 14,
     "metadata": {},
     "output_type": "execute_result"
    }
   ],
   "source": [
    "url='http://localhost:8080/chat/0/list'\n",
    "requests.get(url).json()"
   ]
  },
  {
   "cell_type": "code",
   "execution_count": 15,
   "metadata": {},
   "outputs": [],
   "source": [
    "nuser = {'name': 'Money'}\n",
    "data = requests.post(\"http://localhost:8080/user/create\", data=nuser).json"
   ]
  },
  {
   "cell_type": "code",
   "execution_count": 16,
   "metadata": {},
   "outputs": [
    {
     "name": "stdout",
     "output_type": "stream",
     "text": [
      "<bound method Response.json of <Response [200]>>\n"
     ]
    }
   ],
   "source": [
    "print(data)"
   ]
  },
  {
   "cell_type": "code",
   "execution_count": 17,
   "metadata": {},
   "outputs": [],
   "source": [
    "nchat = {}\n",
    "data = requests.post(\"http://localhost:8080/chat/create\", data=nchat).json"
   ]
  },
  {
   "cell_type": "code",
   "execution_count": null,
   "metadata": {},
   "outputs": [],
   "source": []
  },
  {
   "cell_type": "code",
   "execution_count": 18,
   "metadata": {},
   "outputs": [],
   "source": [
    "#url=\"http://localhost:8080/user/create\"\n",
    "#params={\"name\":\"Jon Snow\",\"datetime\": \"2019-11-17 19:15:41\", \"text\": \"My father taught me big men fall just as quick as little ones if you put a sword through their hearts.\"}\n",
    "#requests.post(url, data=params)"
   ]
  },
  {
   "cell_type": "code",
   "execution_count": 19,
   "metadata": {},
   "outputs": [
    {
     "data": {
      "text/plain": [
       "'url=\"http://localhost:8080/chat/0/adduser\"\\n\\nparams={\"name\":\"Jon Snow\",\"datetime\": \"2019-11-17 19:15:41\", \"text\": \"My father taught me big men fall just as quick as little ones if you put a sword through their hearts.\"}\\n\\nrequests.post(url, data=params)'"
      ]
     },
     "execution_count": 19,
     "metadata": {},
     "output_type": "execute_result"
    }
   ],
   "source": [
    "'''url=\"http://localhost:8080/chat/0/adduser\"\n",
    "\n",
    "params={\"name\":\"Jon Snow\",\"datetime\": \"2019-11-17 19:15:41\", \"text\": \"My father taught me big men fall just as quick as little ones if you put a sword through their hearts.\"}\n",
    "\n",
    "requests.post(url, data=params)'''"
   ]
  },
  {
   "cell_type": "code",
   "execution_count": 24,
   "metadata": {},
   "outputs": [
    {
     "data": {
      "text/plain": [
       "<Response [200]>"
      ]
     },
     "execution_count": 24,
     "metadata": {},
     "output_type": "execute_result"
    }
   ],
   "source": [
    "url='http://localhost:8080/chat/0/adduser'\n",
    "\n",
    "\n",
    "new_doc = {'userName': 'Seora', \n",
    "            'text': \"Cuando vamos\"}\n",
    "\n",
    "requests.post(url, data=new_doc)"
   ]
  },
  {
   "cell_type": "code",
   "execution_count": 25,
   "metadata": {},
   "outputs": [
    {
     "data": {
      "text/plain": [
       "<Response [200]>"
      ]
     },
     "execution_count": 25,
     "metadata": {},
     "output_type": "execute_result"
    }
   ],
   "source": [
    "url='http://localhost:8080/adduser'\n",
    "\n",
    "new_doc = {'userName': 'nuevo', \n",
    "            'text': 'muero'}\n",
    "\n",
    "requests.post(url, data=new_doc)"
   ]
  },
  {
   "cell_type": "code",
   "execution_count": 30,
   "metadata": {},
   "outputs": [
    {
     "data": {
      "text/plain": [
       "<Response [200]>"
      ]
     },
     "execution_count": 30,
     "metadata": {},
     "output_type": "execute_result"
    }
   ],
   "source": [
    "url = 'http://localhost:8080/chat/create'\n",
    "new_chat = {'users': [\"Maria\", \"Seora\", \"David\"]}\n",
    "\n",
    "requests.post(url, data= new_chat)"
   ]
  },
  {
   "cell_type": "code",
   "execution_count": null,
   "metadata": {},
   "outputs": [],
   "source": []
  }
 ],
 "metadata": {
  "kernelspec": {
   "display_name": "Python 3",
   "language": "python",
   "name": "python3"
  },
  "language_info": {
   "codemirror_mode": {
    "name": "ipython",
    "version": 3
   },
   "file_extension": ".py",
   "mimetype": "text/x-python",
   "name": "python",
   "nbconvert_exporter": "python",
   "pygments_lexer": "ipython3",
   "version": "3.6.8"
  }
 },
 "nbformat": 4,
 "nbformat_minor": 2
}
